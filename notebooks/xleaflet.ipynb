{
 "cells": [
  {
   "cell_type": "code",
   "execution_count": 1,
   "metadata": {},
   "outputs": [],
   "source": [
    "#include \"xleaflet/xmap.hpp\"\n",
    "#include \"xleaflet/xtile_layer.hpp\"\n",
    "#include \"xleaflet/xmarker.hpp\"\n",
    "#include \"xleaflet/xmarker_cluster.hpp\"\n",
    "#include \"xleaflet/xlayer_group.hpp\""
   ]
  },
  {
   "cell_type": "code",
   "execution_count": 2,
   "metadata": {},
   "outputs": [
    {
     "data": {
      "application/vnd.jupyter.widget-view+json": {
       "model_id": "a0b2cc0c826b471d9742d02aa943b90c",
       "version_major": 2,
       "version_minor": 0
      },
      "text/plain": [
       "A Jupyter widget"
      ]
     },
     "execution_count": 2,
     "metadata": {},
     "output_type": "execute_result"
    },
    {
     "name": "stderr",
     "output_type": "stream",
     "text": [
      "ERROR: received bad message: No such comm registered: a8c5b746f4014dd48ea2086fb1\n",
      "Message content: {\"comm_id\":\"a8c5b746f4014dd48ea2086fb1803bd3\",\"data\":{\"content\":{\"event\":\"load\"},\"method\":\"custom\"}}\n"
     ]
    }
   ],
   "source": [
    "auto map = xleaflet::map_generator()\n",
    "    .center({50, 354})\n",
    "    .zoom(5)\n",
    "    .finalize();\n",
    "map"
   ]
  },
  {
   "cell_type": "code",
   "execution_count": 3,
   "metadata": {},
   "outputs": [],
   "source": [
    "auto nasa_layer = xleaflet::tile_layer_generator()\n",
    "    .url(\"https://map1.vis.earthdata.nasa.gov/wmts-webmerc/MODIS_Terra_CorrectedReflectance_TrueColor/default/2018-04-04/GoogleMapsCompatible_Level9/{z}/{y}/{x}.jpg\")\n",
    "    .name(\"NASAGIBS.ModisTerraTrueColorCR\")\n",
    "    .attribution(\"Imagery provided by services from the Global Imagery Browse Services (GIBS), operated by the NASA/GSFC/Earth Science Data and Information System (<a href=\\\"https://earthdata.nasa.gov\\\">ESDIS</a>) with funding provided by NASA/HQ.\")\n",
    "    .max_zoom(9)\n",
    "    .opacity(0.6)\n",
    "    .finalize();"
   ]
  },
  {
   "cell_type": "code",
   "execution_count": 4,
   "metadata": {},
   "outputs": [],
   "source": [
    "auto marker1 = xleaflet::marker_generator()\n",
    "    .location({50, 354})\n",
    "    .finalize();\n",
    "auto marker2 = xleaflet::marker_generator()\n",
    "    .location({52, 356})\n",
    "    .finalize();\n",
    "auto marker3 = xleaflet::marker_generator()\n",
    "    .location({48, 352})\n",
    "    .finalize();\n",
    "auto marker_cluster = xleaflet::marker_cluster_generator()\n",
    "    .markers({marker1, marker2, marker3})\n",
    "    .finalize();"
   ]
  },
  {
   "cell_type": "code",
   "execution_count": 5,
   "metadata": {},
   "outputs": [],
   "source": [
    "auto layer_group = xleaflet::layer_group_generator()\n",
    "    .layers({nasa_layer, marker_cluster})\n",
    "    .finalize();\n",
    "map.add_layer(layer_group);\n",
    "\n",
    "auto marker4 = xleaflet::marker_generator()\n",
    "    .location({48, 352})\n",
    "    .finalize();"
   ]
  }
 ],
 "metadata": {
  "kernelspec": {
   "display_name": "C++14",
   "language": "C++14",
   "name": "xeus-cling-cpp14"
  },
  "language_info": {
   "codemirror_mode": "text/x-c++src",
   "file_extension": ".cpp",
   "mimetype": "text/x-c++src",
   "name": "c++",
   "version": "14"
  }
 },
 "nbformat": 4,
 "nbformat_minor": 2
}
