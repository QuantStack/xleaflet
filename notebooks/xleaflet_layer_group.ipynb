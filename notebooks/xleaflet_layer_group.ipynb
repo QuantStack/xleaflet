{
 "cells": [
  {
   "cell_type": "code",
   "execution_count": null,
   "metadata": {},
   "outputs": [],
   "source": [
    "#include \"xleaflet/xmap.hpp\"\n",
    "#include \"xleaflet/xlayer_group.hpp\"\n",
    "#include \"xleaflet/xcircle.hpp\"\n",
    "#include \"xleaflet/xmarker.hpp\"\n",
    "#include \"xleaflet/xrectangle.hpp\"\n",
    "\n",
    "auto map = xleaflet::map_generator()\n",
    "    .center({50, 354})\n",
    "    .zoom(5)\n",
    "    .finalize();\n",
    "map"
   ]
  },
  {
   "cell_type": "code",
   "execution_count": null,
   "metadata": {},
   "outputs": [],
   "source": [
    "// Create some layers\n",
    "auto marker = xleaflet::marker_generator()\n",
    "    .location({50, 354})\n",
    "    .finalize();\n",
    "auto circle = xleaflet::circle_generator()\n",
    "    .location({52, 354})\n",
    "    .radius(5000000)\n",
    "    .color(\"red\")\n",
    "    .finalize();\n",
    "auto rectangle = xleaflet::rectangle_generator()\n",
    "    .bounds({{{54, 354}, {55, 360}}})\n",
    "    .finalize();"
   ]
  },
  {
   "cell_type": "code",
   "execution_count": null,
   "metadata": {},
   "outputs": [],
   "source": [
    "// Create layer_group and add it to the map\n",
    "auto layer_group = xleaflet::layer_group_generator()\n",
    "    .layers({marker, circle})\n",
    "    .finalize();\n",
    "map.add_layer(layer_group);"
   ]
  },
  {
   "cell_type": "code",
   "execution_count": null,
   "metadata": {},
   "outputs": [],
   "source": [
    "// Add a new layer to the layer_group\n",
    "layer_group.add_layer(rectangle);"
   ]
  },
  {
   "cell_type": "code",
   "execution_count": null,
   "metadata": {},
   "outputs": [],
   "source": [
    "// Remove a layer from the layer_group\n",
    "layer_group.remove_layer(circle)"
   ]
  },
  {
   "cell_type": "code",
   "execution_count": null,
   "metadata": {},
   "outputs": [],
   "source": [
    "layer_group.clear_layers();"
   ]
  }
 ],
 "metadata": {
  "kernelspec": {
   "display_name": "C++14",
   "language": "C++14",
   "name": "xeus-cling-cpp14"
  },
  "language_info": {
   "codemirror_mode": "text/x-c++src",
   "file_extension": ".cpp",
   "mimetype": "text/x-c++src",
   "name": "c++",
   "version": "14"
  }
 },
 "nbformat": 4,
 "nbformat_minor": 2
}
